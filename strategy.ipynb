{
 "cells": [
  {
   "cell_type": "code",
   "execution_count": 1,
   "metadata": {},
   "outputs": [],
   "source": [
    "import numpy as np \n",
    "import pandas as pd\n",
    "import requests\n",
    "from groq import Groq\n",
    "from datetime import datetime\n",
    "import calendar\n",
    "import matplotlib.pyplot as plt\n",
    "import math\n",
    "from openai import OpenAI\n",
    "import time"
   ]
  },
  {
   "cell_type": "code",
   "execution_count": 42,
   "metadata": {},
   "outputs": [
    {
     "name": "stderr",
     "output_type": "stream",
     "text": [
      "/tmp/ipykernel_243926/3517862119.py:3: SettingWithCopyWarning: \n",
      "A value is trying to be set on a copy of a slice from a DataFrame.\n",
      "Try using .loc[row_indexer,col_indexer] = value instead\n",
      "\n",
      "See the caveats in the documentation: https://pandas.pydata.org/pandas-docs/stable/user_guide/indexing.html#returning-a-view-versus-a-copy\n",
      "  contracts_test[\"Start Date\"] = pd.to_datetime(contracts_test[\"Start Date\"])\n"
     ]
    }
   ],
   "source": [
    "contracts = pd.read_csv('/home/xikron/Projects/misc/data/contracts_data.csv')\n",
    "contracts_test = contracts[contracts[\"Start Date\"].str.match(r\"^\\d{4}-\\d{2}-\\d{2}$\", na=False)]\n",
    "contracts_test[\"Start Date\"] = pd.to_datetime(contracts_test[\"Start Date\"])\n",
    "contracts_test = contracts_test[\n",
    "    (contracts_test[\"Start Date\"] >= pd.Timestamp(\"2016-01-01\")) & \n",
    "    (contracts_test[\"Start Date\"] < pd.Timestamp(\"2019-09-01\")) ]\n",
    "contracts_test = contracts_test.sort_values(by=\"Start Date\")"
   ]
  },
  {
   "cell_type": "code",
   "execution_count": 43,
   "metadata": {},
   "outputs": [],
   "source": [
    "capital = 10000000\n",
    "portfolio = {}"
   ]
  },
  {
   "cell_type": "code",
   "execution_count": 44,
   "metadata": {},
   "outputs": [],
   "source": [
    "def setLink (ticker, start, end, freq):\n",
    "    link=\"https://financialmodelingprep.com/api/v3/historical-chart/\"+freq+\"/\"+ticker+\"?from=\"+start+\"&to=\"+end+\"&apikey=26srycwxWrFIhEuaZwic6mBdx7f4VjGT\"\n",
    "    return link"
   ]
  },
  {
   "cell_type": "code",
   "execution_count": 45,
   "metadata": {},
   "outputs": [],
   "source": [
    "from dataclasses import dataclass\n",
    "\n",
    "@dataclass\n",
    "class transaction:\n",
    "    contractID: int\n",
    "    num: int"
   ]
  },
  {
   "cell_type": "code",
   "execution_count": 46,
   "metadata": {},
   "outputs": [],
   "source": [
    "from pandas.tseries.holiday import USFederalHolidayCalendar\n",
    "from pandas.tseries.offsets import CustomBusinessDay\n",
    "\n",
    "def getBuyDay(contractDate):\n",
    "    uBday = CustomBusinessDay(calendar=USFederalHolidayCalendar())\n",
    "    contractDate = pd.Timestamp(contractDate)\n",
    "    buyDay = contractDate - 3 * uBday\n",
    "    return buyDay.strftime('%Y-%m-%d')\n",
    "\n",
    "def getSellDay(contractDate):\n",
    "    uBday = CustomBusinessDay(calendar=USFederalHolidayCalendar())\n",
    "    contractDate = pd.Timestamp(contractDate)\n",
    "    sellDay = contractDate + 5*uBday\n",
    "    return sellDay.strftime('%Y-%m-%d')"
   ]
  },
  {
   "cell_type": "code",
   "execution_count": 47,
   "metadata": {},
   "outputs": [],
   "source": [
    "def buy(ticker, valuation, buyDate, id): \n",
    "    global portfolio, capital\n",
    "    response = requests.get(url=setLink(ticker, buyDate, buyDate, \"5min\"))\n",
    "    if response.status_code == 200: \n",
    "        pps = response.json()[-15][\"open\"]\n",
    "        shares = valuation/pps\n",
    "        if ticker not in portfolio: \n",
    "            portfolio[ticker]= [transaction(contractID=id, num=shares)] \n",
    "        else: \n",
    "            portfolio[ticker].append(transaction(contractID=id, num=shares))\n",
    "        capital-=shares*pps \n",
    "        "
   ]
  },
  {
   "cell_type": "code",
   "execution_count": 48,
   "metadata": {},
   "outputs": [],
   "source": [
    "def sell(ticker, sellDate, id):\n",
    "    global portfolio, capital\n",
    "    response = requests.get(url=setLink(ticker, sellDate, sellDate, \"5min\"))\n",
    "    if response.status_code == 200: \n",
    "        pps = response.json()[-15][\"open\"]\n",
    "        for t in portfolio[ticker]: \n",
    "            if t.contractID == id: \n",
    "                shares = t.num\n",
    "                value = shares*pps\n",
    "                capital+=value \n",
    "                portfolio.remove(t)\n",
    "                break"
   ]
  },
  {
   "cell_type": "code",
   "execution_count": null,
   "metadata": {},
   "outputs": [],
   "source": [
    "for "
   ]
  }
 ],
 "metadata": {
  "kernelspec": {
   "display_name": "quant",
   "language": "python",
   "name": "python3"
  },
  "language_info": {
   "codemirror_mode": {
    "name": "ipython",
    "version": 3
   },
   "file_extension": ".py",
   "mimetype": "text/x-python",
   "name": "python",
   "nbconvert_exporter": "python",
   "pygments_lexer": "ipython3",
   "version": "3.13.0"
  }
 },
 "nbformat": 4,
 "nbformat_minor": 2
}
