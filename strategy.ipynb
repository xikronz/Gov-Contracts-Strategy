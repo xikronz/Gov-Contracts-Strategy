{
 "cells": [
  {
   "cell_type": "code",
   "execution_count": 4,
   "metadata": {},
   "outputs": [],
   "source": [
    "import numpy as np \n",
    "import pandas as pd\n",
    "import requests\n",
    "from groq import Groq\n",
    "from datetime import datetime\n",
    "import calendar\n",
    "import matplotlib.pyplot as plt\n",
    "import math\n",
    "from openai import OpenAI\n",
    "import time"
   ]
  },
  {
   "cell_type": "code",
   "execution_count": 5,
   "metadata": {},
   "outputs": [],
   "source": [
    "contracts16 = pd.read_csv(\"/home/xikron/Projects/misc/data/blacktesting/c16.csv\")\n",
    "contracts16['Start Date']= pd.to_datetime(contracts16['Start Date'])\n",
    "contracts16=contracts16.drop_duplicates(subset='Award ID').sort_values(by='Start Date')"
   ]
  },
  {
   "cell_type": "code",
   "execution_count": 6,
   "metadata": {},
   "outputs": [],
   "source": [
    "contracts17 = pd.read_csv(\"/home/xikron/Projects/misc/data/blacktesting/c17.csv\")\n",
    "contracts17['Start Date']= pd.to_datetime(contracts17['Start Date'])\n",
    "contracts17=contracts17.drop_duplicates(subset='Award ID').sort_values(by='Start Date')"
   ]
  },
  {
   "cell_type": "code",
   "execution_count": 7,
   "metadata": {},
   "outputs": [],
   "source": [
    "contracts18 = pd.read_csv(\"/home/xikron/Projects/misc/data/blacktesting/c18.csv\")\n",
    "contracts18['Start Date']= pd.to_datetime(contracts18['Start Date'])\n",
    "contracts18=contracts18.drop_duplicates(subset='Award ID').sort_values(by='Start Date')"
   ]
  },
  {
   "cell_type": "code",
   "execution_count": 8,
   "metadata": {},
   "outputs": [],
   "source": [
    "def setLinkIntd (ticker, start, end, freq):\n",
    "    start_str = start.strftime('%Y-%m-%d') if isinstance(start, pd.Timestamp) else start \n",
    "    end_str = end.strftime('%Y-%m-%d') if isinstance(end, pd.Timestamp) else end\n",
    "\n",
    "    link = \"https://financialmodelingprep.com/api/v3/historical-chart/\" + freq + \"/\" + ticker + \"?from=\" + start_str + \"&to=\" + end_str + \"&apikey=26srycwxWrFIhEuaZwic6mBdx7f4VjGT\"\n",
    "    return link\n",
    "\n",
    "\n",
    "def setLinkEod (ticker, start, end):\n",
    "    start_str = start.strftime('%Y-%m-%d') if isinstance(start, pd.Timestamp) else start\n",
    "    end_str = end.strftime('%Y-%m-%d') if isinstance(end, pd.Timestamp) else end\n",
    "\n",
    "    return \"https://financialmodelingprep.com/api/v3/historical-price-full/\" + ticker + \"?from=\" + start_str + \"&to=\" + end_str + \"&apikey=26srycwxWrFIhEuaZwic6mBdx7f4VjGT\""
   ]
  },
  {
   "cell_type": "code",
   "execution_count": 9,
   "metadata": {},
   "outputs": [],
   "source": [
    "response = requests.get(url=setLinkIntd(\"LMT\", \"2010-03-31\", \"2010-03-31\", \"5min\"))\n",
    "response1 = requests.get(url=setLinkEod(\"RTX\", \"2001-01-01\", \"2001-01-02\"))"
   ]
  },
  {
   "cell_type": "code",
   "execution_count": 10,
   "metadata": {},
   "outputs": [
    {
     "name": "stdout",
     "output_type": "stream",
     "text": [
      "0    22.19\n",
      "dtype: float64\n"
     ]
    }
   ],
   "source": [
    "response1.json()['historical']\n",
    "prices = pd.Series([entry['close'] for entry in response1.json()['historical']])        \n",
    "print(prices)"
   ]
  },
  {
   "cell_type": "code",
   "execution_count": 11,
   "metadata": {},
   "outputs": [],
   "source": [
    "import uuid\n",
    "\n",
    "class distinctId:\n",
    "    @staticmethod\n",
    "    def genId():\n",
    "        return str(uuid.uuid4())"
   ]
  },
  {
   "cell_type": "code",
   "execution_count": 12,
   "metadata": {},
   "outputs": [],
   "source": [
    "from dataclasses import dataclass\n",
    "\n",
    "@dataclass\n",
    "class transaction:\n",
    "    contractID: int\n",
    "    num: int\n"
   ]
  },
  {
   "cell_type": "code",
   "execution_count": 13,
   "metadata": {},
   "outputs": [],
   "source": [
    "class Portfolio: \n",
    "    def __init__(self, thresh, startingConst, start=1000000000):\n",
    "        self.id = distinctId.genId()  \n",
    "        self.capital = start\n",
    "        self.trades = {}\n",
    "        self.sells = []\n",
    "        self.buys = []\n",
    "        self.mRThresh = thresh\n",
    "        self.buySig = startingConst\n",
    "\n",
    "    def logTrade(self, ticker, iD, shares): \n",
    "        if ticker not in self.trades:\n",
    "            self.trades[ticker] = [transaction(iD, shares)]\n",
    "        else: \n",
    "            self.trades[ticker].append(transaction(iD, shares)) \n",
    "\n",
    "    def buy(self, pps, ticker, shares, iD, buyDate):\n",
    "        if self.capital >= pps * shares:  \n",
    "            self.capital -= pps * shares\n",
    "            self.logTrade(ticker, iD, shares)\n",
    "            self.buys.append(f\"B{shares}{ticker}{pps}D{buyDate}\")\n",
    "            print(f\"B{shares}{ticker}{pps}D{buyDate}\")\n",
    "        else:\n",
    "            print(\"Insufficient capital to buy shares!\")\n",
    "\n",
    "    def sell(self, pps, iD, ticker, sellDate):\n",
    "        if ticker in self.trades:\n",
    "            for t in self.trades[ticker]:\n",
    "                if t.contractID == iD: \n",
    "                    shares = t.num\n",
    "                    self.capital += shares * pps\n",
    "                    self.sells.append(f\"S{shares}{ticker}{pps}D{sellDate}\")\n",
    "                    print(f\"S{shares}{ticker}{pps}D{sellDate}\")\n",
    "                    self.trades[ticker].remove(t) \n",
    "                    break  "
   ]
  },
  {
   "cell_type": "code",
   "execution_count": 14,
   "metadata": {},
   "outputs": [],
   "source": [
    "from pandas.tseries.holiday import USFederalHolidayCalendar\n",
    "from pandas.tseries.offsets import CustomBusinessDay\n",
    "\n",
    "def getBuyDay(contractDate, prev):\n",
    "    uBday = CustomBusinessDay(calendar=USFederalHolidayCalendar())\n",
    "    contractDate = pd.Timestamp(contractDate)\n",
    "    buyDay = contractDate - prev * uBday\n",
    "    return buyDay.strftime('%Y-%m-%d')\n"
   ]
  },
  {
   "cell_type": "code",
   "execution_count": 15,
   "metadata": {},
   "outputs": [],
   "source": [
    "def meanReversion(prices, threshold, window=20):\n",
    "    if len(prices) < window:\n",
    "        print(f\"Warning: Not enough data points for rolling window (got {len(prices)}, expected {window})\")\n",
    "        return False  \n",
    "\n",
    "    sma = prices.rolling(window=window).mean()\n",
    "    std_dev = prices.rolling(window=window).std()\n",
    "\n",
    "    z_score = (prices - sma) / std_dev\n",
    "\n",
    "    if len(z_score) > 0:\n",
    "        if z_score.iloc[-1] > threshold:\n",
    "            return True  \n",
    "        elif z_score.iloc[-1] < -threshold:\n",
    "            return True\n",
    "    else:\n",
    "        print(\"Error: 'z_score' is empty or invalid.\")\n",
    "    \n",
    "    return False  "
   ]
  },
  {
   "cell_type": "code",
   "execution_count": 16,
   "metadata": {},
   "outputs": [],
   "source": [
    "def getSellDay(contractDate, ticker, portfolio): \n",
    "    us_business_day = CustomBusinessDay(calendar=USFederalHolidayCalendar())\n",
    "\n",
    "    contractDate = pd.Timestamp(contractDate)\n",
    "    adjDate = contractDate if us_business_day.is_on_offset(contractDate) else contractDate + us_business_day\n",
    "    adjDate += 1 * us_business_day  \n",
    "\n",
    "    startDay = adjDate - pd.Timedelta(days=30)\n",
    "    endDay = adjDate \n",
    "\n",
    "    response = requests.get(setLinkIntd(ticker, startDay.strftime('%Y-%m-%d'), endDay.strftime(('%Y-%m-%d')), \"5min\"))\n",
    "\n",
    "    if response.status_code == 200:\n",
    "        data = response.json()\n",
    "        if len(data)==0: \n",
    "            try:\n",
    "                response = requests.get(setLinkEod(ticker, startDay.strftime('%Y-%m-%d'), endDay.strftime(('%Y-%m-%d'))))\n",
    "                data = response.json()['historical']\n",
    "            except Exception as e: \n",
    "                print(\"Unexpected exception: \"+ str(e))\n",
    "                return None\n",
    "        if len(data)!= 0:\n",
    "            prices = pd.Series([entry['close'] for entry in data])        \n",
    "\n",
    "            if meanReversion(prices, portfolio.mRThresh):\n",
    "                return adjDate.strftime('%Y-%m-%d')  \n",
    "            else:\n",
    "                next_day = adjDate + us_business_day\n",
    "                return getSellDay(next_day.strftime('%Y-%m-%d'), ticker, portfolio)  \n",
    "        else: \n",
    "            return"
   ]
  },
  {
   "cell_type": "code",
   "execution_count": 17,
   "metadata": {},
   "outputs": [],
   "source": [
    "import time \n",
    "def buy(ticker, pP, buyDate, id, portfolio): \n",
    "    response = requests.get(url=setLinkIntd(ticker, buyDate, buyDate, \"5min\"))\n",
    "    for i in range (2): \n",
    "        if response.status_code == 200: \n",
    "            if len(response.json()) == 0: \n",
    "                response = requests.get(url=setLinkEod(ticker, buyDate, buyDate))\n",
    "                try: \n",
    "                    pps = response.json()['historical'][0]['close']  \n",
    "                except Exception as e: \n",
    "                    print(\"Response length \" + str(len(response.json())) + \" with unexpected exception: \" + str(e))  \n",
    "                    return False\n",
    "            if len(response.json())>15:\n",
    "                pps = response.json()[-15][\"open\"]\n",
    "\n",
    "            if (pps!=None): \n",
    "                shares = math.floor(pP/pps)\n",
    "                portfolio.buy(pps, ticker, shares, id, buyDate)\n",
    "                \n",
    "                return True \n",
    "            else: \n",
    "                return False\n",
    "        elif response.status_code == 429: \n",
    "            time.sleep(15)\n",
    "            continue\n",
    "        else:\n",
    "            return False\n",
    "    return False "
   ]
  },
  {
   "cell_type": "code",
   "execution_count": 18,
   "metadata": {},
   "outputs": [],
   "source": [
    "def sell(ticker, sellDate, id, portfolio):\n",
    "    response = requests.get(url=setLinkIntd(ticker, sellDate, sellDate, \"5min\"))\n",
    "    if response.status_code == 200 and len(response.json()) >15: \n",
    "        pps = response.json()[-15][\"open\"]\n",
    "        portfolio.sell(pps, id, ticker, sellDate)\n"
   ]
  },
  {
   "cell_type": "code",
   "execution_count": 19,
   "metadata": {},
   "outputs": [],
   "source": [
    "def runPortfolio(contracts, mRSig, prev): \n",
    "    global allValueation, allBuys, allSells \n",
    "    portfolio = Portfolio(mRSig, prev)\n",
    "    for i in range (len(contracts)):\n",
    "        tick = contracts.iloc[i]['Recipient Name']\n",
    "        contractStart = contracts.iloc[i]['Start Date']\n",
    "        id = contracts.iloc[i]['internal_id']\n",
    "        bDay = getBuyDay(contractStart, portfolio.buySig)\n",
    "        if (buy(tick, portfolio.capital*0.10, bDay, id, portfolio)):\n",
    "            sell(tick, getSellDay(contractStart, tick, portfolio), id, portfolio)\n",
    "        else:\n",
    "            continue\n",
    "    return portfolio"
   ]
  },
  {
   "cell_type": "code",
   "execution_count": 20,
   "metadata": {},
   "outputs": [
    {
     "name": "stdout",
     "output_type": "stream",
     "text": [
      "B394679BA253.37D2017-09-19\n",
      "S394679BA264.86D2017-10-24\n",
      "B1407305RTX71.38D2017-05-10\n"
     ]
    },
    {
     "ename": "TypeError",
     "evalue": "can only concatenate str (not \"NoneType\") to str",
     "output_type": "error",
     "traceback": [
      "\u001b[0;31m---------------------------------------------------------------------------\u001b[0m",
      "\u001b[0;31mTypeError\u001b[0m                                 Traceback (most recent call last)",
      "Cell \u001b[0;32mIn[20], line 11\u001b[0m\n\u001b[1;32m      6\u001b[0m     futures \u001b[38;5;241m=\u001b[39m [\n\u001b[1;32m      7\u001b[0m         executor\u001b[38;5;241m.\u001b[39msubmit(runPortfolio, contracts17\u001b[38;5;241m.\u001b[39msample(\u001b[38;5;241m150\u001b[39m, replace\u001b[38;5;241m=\u001b[39m\u001b[38;5;28;01mFalse\u001b[39;00m), \u001b[38;5;241m2.5\u001b[39m, \u001b[38;5;241m3\u001b[39m),\n\u001b[1;32m      8\u001b[0m     ]\n\u001b[1;32m     10\u001b[0m     \u001b[38;5;28;01mfor\u001b[39;00m future \u001b[38;5;129;01min\u001b[39;00m futures:\n\u001b[0;32m---> 11\u001b[0m         allPortfolios\u001b[38;5;241m.\u001b[39mappend(\u001b[43mfuture\u001b[49m\u001b[38;5;241;43m.\u001b[39;49m\u001b[43mresult\u001b[49m\u001b[43m(\u001b[49m\u001b[43m)\u001b[49m) \n\u001b[1;32m     12\u001b[0m \u001b[38;5;28mprint\u001b[39m(allPortfolios)\n",
      "File \u001b[0;32m~/miniconda3/envs/quant/lib/python3.13/concurrent/futures/_base.py:456\u001b[0m, in \u001b[0;36mFuture.result\u001b[0;34m(self, timeout)\u001b[0m\n\u001b[1;32m    454\u001b[0m     \u001b[38;5;28;01mraise\u001b[39;00m CancelledError()\n\u001b[1;32m    455\u001b[0m \u001b[38;5;28;01melif\u001b[39;00m \u001b[38;5;28mself\u001b[39m\u001b[38;5;241m.\u001b[39m_state \u001b[38;5;241m==\u001b[39m FINISHED:\n\u001b[0;32m--> 456\u001b[0m     \u001b[38;5;28;01mreturn\u001b[39;00m \u001b[38;5;28;43mself\u001b[39;49m\u001b[38;5;241;43m.\u001b[39;49m\u001b[43m__get_result\u001b[49m\u001b[43m(\u001b[49m\u001b[43m)\u001b[49m\n\u001b[1;32m    457\u001b[0m \u001b[38;5;28;01melse\u001b[39;00m:\n\u001b[1;32m    458\u001b[0m     \u001b[38;5;28;01mraise\u001b[39;00m \u001b[38;5;167;01mTimeoutError\u001b[39;00m()\n",
      "File \u001b[0;32m~/miniconda3/envs/quant/lib/python3.13/concurrent/futures/_base.py:401\u001b[0m, in \u001b[0;36mFuture.__get_result\u001b[0;34m(self)\u001b[0m\n\u001b[1;32m    399\u001b[0m \u001b[38;5;28;01mif\u001b[39;00m \u001b[38;5;28mself\u001b[39m\u001b[38;5;241m.\u001b[39m_exception:\n\u001b[1;32m    400\u001b[0m     \u001b[38;5;28;01mtry\u001b[39;00m:\n\u001b[0;32m--> 401\u001b[0m         \u001b[38;5;28;01mraise\u001b[39;00m \u001b[38;5;28mself\u001b[39m\u001b[38;5;241m.\u001b[39m_exception\n\u001b[1;32m    402\u001b[0m     \u001b[38;5;28;01mfinally\u001b[39;00m:\n\u001b[1;32m    403\u001b[0m         \u001b[38;5;66;03m# Break a reference cycle with the exception in self._exception\u001b[39;00m\n\u001b[1;32m    404\u001b[0m         \u001b[38;5;28mself\u001b[39m \u001b[38;5;241m=\u001b[39m \u001b[38;5;28;01mNone\u001b[39;00m\n",
      "File \u001b[0;32m~/miniconda3/envs/quant/lib/python3.13/concurrent/futures/thread.py:58\u001b[0m, in \u001b[0;36m_WorkItem.run\u001b[0;34m(self)\u001b[0m\n\u001b[1;32m     55\u001b[0m     \u001b[38;5;28;01mreturn\u001b[39;00m\n\u001b[1;32m     57\u001b[0m \u001b[38;5;28;01mtry\u001b[39;00m:\n\u001b[0;32m---> 58\u001b[0m     result \u001b[38;5;241m=\u001b[39m \u001b[38;5;28;43mself\u001b[39;49m\u001b[38;5;241;43m.\u001b[39;49m\u001b[43mfn\u001b[49m\u001b[43m(\u001b[49m\u001b[38;5;241;43m*\u001b[39;49m\u001b[38;5;28;43mself\u001b[39;49m\u001b[38;5;241;43m.\u001b[39;49m\u001b[43margs\u001b[49m\u001b[43m,\u001b[49m\u001b[43m \u001b[49m\u001b[38;5;241;43m*\u001b[39;49m\u001b[38;5;241;43m*\u001b[39;49m\u001b[38;5;28;43mself\u001b[39;49m\u001b[38;5;241;43m.\u001b[39;49m\u001b[43mkwargs\u001b[49m\u001b[43m)\u001b[49m\n\u001b[1;32m     59\u001b[0m \u001b[38;5;28;01mexcept\u001b[39;00m \u001b[38;5;167;01mBaseException\u001b[39;00m \u001b[38;5;28;01mas\u001b[39;00m exc:\n\u001b[1;32m     60\u001b[0m     \u001b[38;5;28mself\u001b[39m\u001b[38;5;241m.\u001b[39mfuture\u001b[38;5;241m.\u001b[39mset_exception(exc)\n",
      "Cell \u001b[0;32mIn[19], line 10\u001b[0m, in \u001b[0;36mrunPortfolio\u001b[0;34m(contracts, mRSig, prev)\u001b[0m\n\u001b[1;32m      8\u001b[0m bDay \u001b[38;5;241m=\u001b[39m getBuyDay(contractStart, portfolio\u001b[38;5;241m.\u001b[39mbuySig)\n\u001b[1;32m      9\u001b[0m \u001b[38;5;28;01mif\u001b[39;00m (buy(tick, portfolio\u001b[38;5;241m.\u001b[39mcapital\u001b[38;5;241m*\u001b[39m\u001b[38;5;241m0.10\u001b[39m, bDay, \u001b[38;5;28mid\u001b[39m, portfolio)):\n\u001b[0;32m---> 10\u001b[0m     \u001b[43msell\u001b[49m\u001b[43m(\u001b[49m\u001b[43mtick\u001b[49m\u001b[43m,\u001b[49m\u001b[43m \u001b[49m\u001b[43mgetSellDay\u001b[49m\u001b[43m(\u001b[49m\u001b[43mcontractStart\u001b[49m\u001b[43m,\u001b[49m\u001b[43m \u001b[49m\u001b[43mtick\u001b[49m\u001b[43m,\u001b[49m\u001b[43m \u001b[49m\u001b[43mportfolio\u001b[49m\u001b[43m)\u001b[49m\u001b[43m,\u001b[49m\u001b[43m \u001b[49m\u001b[38;5;28;43mid\u001b[39;49m\u001b[43m,\u001b[49m\u001b[43m \u001b[49m\u001b[43mportfolio\u001b[49m\u001b[43m)\u001b[49m\n\u001b[1;32m     11\u001b[0m \u001b[38;5;28;01melse\u001b[39;00m:\n\u001b[1;32m     12\u001b[0m     \u001b[38;5;28;01mcontinue\u001b[39;00m\n",
      "Cell \u001b[0;32mIn[18], line 2\u001b[0m, in \u001b[0;36msell\u001b[0;34m(ticker, sellDate, id, portfolio)\u001b[0m\n\u001b[1;32m      1\u001b[0m \u001b[38;5;28;01mdef\u001b[39;00m \u001b[38;5;21msell\u001b[39m(ticker, sellDate, \u001b[38;5;28mid\u001b[39m, portfolio):\n\u001b[0;32m----> 2\u001b[0m     response \u001b[38;5;241m=\u001b[39m requests\u001b[38;5;241m.\u001b[39mget(url\u001b[38;5;241m=\u001b[39m\u001b[43msetLinkIntd\u001b[49m\u001b[43m(\u001b[49m\u001b[43mticker\u001b[49m\u001b[43m,\u001b[49m\u001b[43m \u001b[49m\u001b[43msellDate\u001b[49m\u001b[43m,\u001b[49m\u001b[43m \u001b[49m\u001b[43msellDate\u001b[49m\u001b[43m,\u001b[49m\u001b[43m \u001b[49m\u001b[38;5;124;43m\"\u001b[39;49m\u001b[38;5;124;43m5min\u001b[39;49m\u001b[38;5;124;43m\"\u001b[39;49m\u001b[43m)\u001b[49m)\n\u001b[1;32m      3\u001b[0m     \u001b[38;5;28;01mif\u001b[39;00m response\u001b[38;5;241m.\u001b[39mstatus_code \u001b[38;5;241m==\u001b[39m \u001b[38;5;241m200\u001b[39m \u001b[38;5;129;01mand\u001b[39;00m \u001b[38;5;28mlen\u001b[39m(response\u001b[38;5;241m.\u001b[39mjson()) \u001b[38;5;241m>\u001b[39m\u001b[38;5;241m15\u001b[39m: \n\u001b[1;32m      4\u001b[0m         pps \u001b[38;5;241m=\u001b[39m response\u001b[38;5;241m.\u001b[39mjson()[\u001b[38;5;241m-\u001b[39m\u001b[38;5;241m15\u001b[39m][\u001b[38;5;124m\"\u001b[39m\u001b[38;5;124mopen\u001b[39m\u001b[38;5;124m\"\u001b[39m]\n",
      "Cell \u001b[0;32mIn[8], line 5\u001b[0m, in \u001b[0;36msetLinkIntd\u001b[0;34m(ticker, start, end, freq)\u001b[0m\n\u001b[1;32m      2\u001b[0m start_str \u001b[38;5;241m=\u001b[39m start\u001b[38;5;241m.\u001b[39mstrftime(\u001b[38;5;124m'\u001b[39m\u001b[38;5;124m%\u001b[39m\u001b[38;5;124mY-\u001b[39m\u001b[38;5;124m%\u001b[39m\u001b[38;5;124mm-\u001b[39m\u001b[38;5;132;01m%d\u001b[39;00m\u001b[38;5;124m'\u001b[39m) \u001b[38;5;28;01mif\u001b[39;00m \u001b[38;5;28misinstance\u001b[39m(start, pd\u001b[38;5;241m.\u001b[39mTimestamp) \u001b[38;5;28;01melse\u001b[39;00m start \n\u001b[1;32m      3\u001b[0m end_str \u001b[38;5;241m=\u001b[39m end\u001b[38;5;241m.\u001b[39mstrftime(\u001b[38;5;124m'\u001b[39m\u001b[38;5;124m%\u001b[39m\u001b[38;5;124mY-\u001b[39m\u001b[38;5;124m%\u001b[39m\u001b[38;5;124mm-\u001b[39m\u001b[38;5;132;01m%d\u001b[39;00m\u001b[38;5;124m'\u001b[39m) \u001b[38;5;28;01mif\u001b[39;00m \u001b[38;5;28misinstance\u001b[39m(end, pd\u001b[38;5;241m.\u001b[39mTimestamp) \u001b[38;5;28;01melse\u001b[39;00m end\n\u001b[0;32m----> 5\u001b[0m link \u001b[38;5;241m=\u001b[39m \u001b[38;5;124;43m\"\u001b[39;49m\u001b[38;5;124;43mhttps://financialmodelingprep.com/api/v3/historical-chart/\u001b[39;49m\u001b[38;5;124;43m\"\u001b[39;49m\u001b[43m \u001b[49m\u001b[38;5;241;43m+\u001b[39;49m\u001b[43m \u001b[49m\u001b[43mfreq\u001b[49m\u001b[43m \u001b[49m\u001b[38;5;241;43m+\u001b[39;49m\u001b[43m \u001b[49m\u001b[38;5;124;43m\"\u001b[39;49m\u001b[38;5;124;43m/\u001b[39;49m\u001b[38;5;124;43m\"\u001b[39;49m\u001b[43m \u001b[49m\u001b[38;5;241;43m+\u001b[39;49m\u001b[43m \u001b[49m\u001b[43mticker\u001b[49m\u001b[43m \u001b[49m\u001b[38;5;241;43m+\u001b[39;49m\u001b[43m \u001b[49m\u001b[38;5;124;43m\"\u001b[39;49m\u001b[38;5;124;43m?from=\u001b[39;49m\u001b[38;5;124;43m\"\u001b[39;49m\u001b[43m \u001b[49m\u001b[38;5;241;43m+\u001b[39;49m\u001b[43m \u001b[49m\u001b[43mstart_str\u001b[49m \u001b[38;5;241m+\u001b[39m \u001b[38;5;124m\"\u001b[39m\u001b[38;5;124m&to=\u001b[39m\u001b[38;5;124m\"\u001b[39m \u001b[38;5;241m+\u001b[39m end_str \u001b[38;5;241m+\u001b[39m \u001b[38;5;124m\"\u001b[39m\u001b[38;5;124m&apikey=26srycwxWrFIhEuaZwic6mBdx7f4VjGT\u001b[39m\u001b[38;5;124m\"\u001b[39m\n\u001b[1;32m      6\u001b[0m \u001b[38;5;28;01mreturn\u001b[39;00m link\n",
      "\u001b[0;31mTypeError\u001b[0m: can only concatenate str (not \"NoneType\") to str"
     ]
    }
   ],
   "source": [
    "from concurrent.futures import ThreadPoolExecutor\n",
    "\n",
    "allPortfolios = []\n",
    "\n",
    "with ThreadPoolExecutor(max_workers=5) as executor:\n",
    "    futures = [\n",
    "        executor.submit(runPortfolio, contracts17.sample(150, replace=False), 2.5, 3),\n",
    "    ]\n",
    "\n",
    "    for future in futures:\n",
    "        allPortfolios.append(future.result()) \n",
    "print(allPortfolios)"
   ]
  }
 ],
 "metadata": {
  "kernelspec": {
   "display_name": "quant",
   "language": "python",
   "name": "python3"
  },
  "language_info": {
   "codemirror_mode": {
    "name": "ipython",
    "version": 3
   },
   "file_extension": ".py",
   "mimetype": "text/x-python",
   "name": "python",
   "nbconvert_exporter": "python",
   "pygments_lexer": "ipython3",
   "version": "3.13.0"
  }
 },
 "nbformat": 4,
 "nbformat_minor": 2
}
