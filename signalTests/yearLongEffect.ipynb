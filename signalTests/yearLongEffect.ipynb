{
 "cells": [
  {
   "cell_type": "code",
   "execution_count": 1,
   "metadata": {},
   "outputs": [],
   "source": [
    "import numpy as np \n",
    "import pandas as pd\n",
    "import requests\n",
    "from datetime import datetime\n",
    "import calendar\n",
    "import matplotlib.pyplot as plt\n",
    "import math"
   ]
  },
  {
   "cell_type": "code",
   "execution_count": 2,
   "metadata": {},
   "outputs": [],
   "source": [
    "contracts = pd.read_csv(\"/home/xikron/Projects/misc/data/signalTest/cA.csv\")\n",
    "contracts_test = contracts[contracts[\"Start Date\"].str.match(r\"^\\d{4}-\\d{2}-\\d{2}$\", na=False)]\n",
    "contracts_test[\"Start Date\"] = pd.to_datetime(contracts_test[\"Start Date\"])\n",
    "contracts_test = contracts_test.sort_values(by=\"Start Date\")"
   ]
  },
  {
   "cell_type": "code",
   "execution_count": 3,
   "metadata": {},
   "outputs": [],
   "source": [
    "keys= []\n",
    "date_ranges = [\n",
    "    (\"2010-01-01\", \"2011-01-01\", \"c10\"),\n",
    "    (\"2011-01-01\", \"2012-01-01\", \"c11\"),\n",
    "    (\"2012-01-01\", \"2013-01-01\", \"c12\"),\n",
    "    (\"2013-01-01\", \"2014-01-01\", \"c13\"),\n",
    "    (\"2014-01-01\", \"2015-01-01\", \"c14\"),\n",
    "    (\"2015-01-01\", \"2016-01-01\", \"c15\"),\n",
    "]\n",
    "\n",
    "def filter (start_date, end_date, label):\n",
    "    globals()[label] = contracts_test[\n",
    "        (contracts_test[\"Start Date\"] >= pd.Timestamp(start_date)) & \n",
    "        (contracts_test[\"Start Date\"] < pd.Timestamp(end_date))\n",
    "    ].reset_index(drop=True, inplace=False)\n",
    "    keys.append(label)\n",
    "\n",
    "for start, end, label in date_ranges:\n",
    "    filter(start, end, label)"
   ]
  },
  {
   "cell_type": "code",
   "execution_count": 9,
   "metadata": {},
   "outputs": [
    {
     "data": {
      "text/plain": [
       "(412, 21)"
      ]
     },
     "execution_count": 9,
     "metadata": {},
     "output_type": "execute_result"
    }
   ],
   "source": [
    "globals().get('c10').shape"
   ]
  },
  {
   "cell_type": "code",
   "execution_count": 8,
   "metadata": {},
   "outputs": [],
   "source": [
    "def setLinkIntd (ticker, start, end, freq):\n",
    "    link=\"https://financialmodelingprep.com/api/v3/historical-chart/\"+freq+\"/\"+ticker+\"?from=\"+start+\"&to=\"+end+\"&apikey=26srycwxWrFIhEuaZwic6mBdx7f4VjGT\"\n",
    "    return link"
   ]
  },
  {
   "cell_type": "code",
   "execution_count": null,
   "metadata": {},
   "outputs": [],
   "source": []
  }
 ],
 "metadata": {
  "kernelspec": {
   "display_name": "quant",
   "language": "python",
   "name": "python3"
  },
  "language_info": {
   "codemirror_mode": {
    "name": "ipython",
    "version": 3
   },
   "file_extension": ".py",
   "mimetype": "text/x-python",
   "name": "python",
   "nbconvert_exporter": "python",
   "pygments_lexer": "ipython3",
   "version": "3.13.0"
  }
 },
 "nbformat": 4,
 "nbformat_minor": 2
}
