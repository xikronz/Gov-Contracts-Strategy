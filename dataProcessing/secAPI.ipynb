{
 "cells": [
  {
   "cell_type": "markdown",
   "metadata": {},
   "source": [
    "This page is used to experiment with SEC's API keys as the documentation around them is limited and unclear"
   ]
  },
  {
   "cell_type": "code",
   "execution_count": 36,
   "metadata": {},
   "outputs": [],
   "source": [
    "#imports \n",
    "import requests\n",
    "import pandas as pd\n",
    "import json"
   ]
  },
  {
   "cell_type": "markdown",
   "metadata": {},
   "source": [
    "In compliance with the developpers documentation, every API call requires a header with your email so they can attribute the caller respectively (there's no keys required here). Use whatever email you'd like"
   ]
  },
  {
   "cell_type": "code",
   "execution_count": 1,
   "metadata": {},
   "outputs": [],
   "source": [
    "headers ={\n",
    "    \"User-Agent\":\"xicron@gmail.com\"\n",
    "}"
   ]
  },
  {
   "cell_type": "markdown",
   "metadata": {},
   "source": [
    "Calls to the api are made in reference to a companie's padded CIK ID with leading zeros. let's take a look at MICROSOFT for the following examples "
   ]
  },
  {
   "cell_type": "code",
   "execution_count": 23,
   "metadata": {},
   "outputs": [],
   "source": [
    "tickers = pd.read_csv(\"data/tickers_data.csv\", dtype={'cik_s': str})\n",
    "msft = tickers[\"cik_s\"][1]"
   ]
  },
  {
   "cell_type": "markdown",
   "metadata": {},
   "source": [
    "The following function will return a call for an entities filing history"
   ]
  },
  {
   "cell_type": "code",
   "execution_count": 31,
   "metadata": {},
   "outputs": [],
   "source": [
    "def getCompanyHistory(cik):\n",
    "    hist = requests.get(\n",
    "        \"https://data.sec.gov/submissions/CIK\"+cik+\".json\", headers=headers\n",
    "    )\n",
    "    return hist"
   ]
  },
  {
   "cell_type": "code",
   "execution_count": 41,
   "metadata": {},
   "outputs": [
    {
     "name": "stdout",
     "output_type": "stream",
     "text": [
      "cik\n",
      "entityType\n",
      "sic\n",
      "sicDescription\n",
      "ownerOrg\n",
      "insiderTransactionForOwnerExists\n",
      "insiderTransactionForIssuerExists\n",
      "name\n",
      "tickers\n",
      "exchanges\n",
      "ein\n",
      "description\n",
      "website\n",
      "investorWebsite\n",
      "category\n",
      "fiscalYearEnd\n",
      "stateOfIncorporation\n",
      "stateOfIncorporationDescription\n",
      "addresses\n",
      "phone\n",
      "flags\n",
      "formerNames\n",
      "filings\n"
     ]
    }
   ],
   "source": [
    "msftHist = getCompanyHistory(msft)\n",
    "\n",
    "for elem in (list(msftHist.json().keys())): \n",
    "    print(elem)"
   ]
  }
 ],
 "metadata": {
  "kernelspec": {
   "display_name": "quant",
   "language": "python",
   "name": "python3"
  },
  "language_info": {
   "codemirror_mode": {
    "name": "ipython",
    "version": 3
   },
   "file_extension": ".py",
   "mimetype": "text/x-python",
   "name": "python",
   "nbconvert_exporter": "python",
   "pygments_lexer": "ipython3",
   "version": "3.13.0"
  }
 },
 "nbformat": 4,
 "nbformat_minor": 2
}
