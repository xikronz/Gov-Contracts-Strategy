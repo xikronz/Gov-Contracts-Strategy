{
 "cells": [
  {
   "cell_type": "code",
   "execution_count": null,
   "metadata": {},
   "outputs": [],
   "source": [
    "import yfinance as yf\n",
    "import numpy as np \n",
    "import pandas as pd\n",
    "import requests\n",
    "import json\n",
    "import copy"
   ]
  },
  {
   "cell_type": "code",
   "execution_count": null,
   "metadata": {},
   "outputs": [],
   "source": [
    "api_url =\"https://api.usaspending.gov/api/v2/search/spending_by_award\"\n",
    "headers = {\n",
    "    'Content-Type': 'application/json'\n",
    "}"
   ]
  },
  {
   "cell_type": "code",
   "execution_count": null,
   "metadata": {},
   "outputs": [],
   "source": [
    "payload = {\n",
    "    \"subawards\": False,\n",
    "    \"limit\": 100,\n",
    "    \"page\": 1, \n",
    "    \"filters\": {\n",
    "        \"time_period\": [\n",
    "            {\"start_date\": \"2007-10-01\", \"end_date\": \"2008-09-30\"},\n",
    "            {\"start_date\": \"2008-10-01\", \"end_date\": \"2009-09-30\"},\n",
    "            {\"start_date\": \"2009-10-01\", \"end_date\": \"2010-09-30\"},\n",
    "            {\"start_date\": \"2010-10-01\", \"end_date\": \"2011-09-30\"},\n",
    "            {\"start_date\": \"2011-10-01\", \"end_date\": \"2012-09-30\"},\n",
    "            {\"start_date\": \"2012-10-01\", \"end_date\": \"2013-09-30\"},\n",
    "            {\"start_date\": \"2013-10-01\", \"end_date\": \"2014-09-30\"},\n",
    "            {\"start_date\": \"2014-10-01\", \"end_date\": \"2015-09-30\"},\n",
    "            {\"start_date\": \"2015-10-01\", \"end_date\": \"2016-09-30\"},\n",
    "            {\"start_date\": \"2016-10-01\", \"end_date\": \"2017-09-30\"},\n",
    "            {\"start_date\": \"2017-10-01\", \"end_date\": \"2018-09-30\"},\n",
    "            {\"start_date\": \"2018-10-01\", \"end_date\": \"2019-09-30\"},\n",
    "            {\"start_date\": \"2019-10-01\", \"end_date\": \"2020-09-30\"},\n",
    "            {\"start_date\": \"2020-10-01\", \"end_date\": \"2021-09-30\"},\n",
    "            {\"start_date\": \"2021-10-01\", \"end_date\": \"2022-09-30\"},\n",
    "            {\"start_date\": \"2022-10-01\", \"end_date\": \"2023-09-30\"},\n",
    "            {\"start_date\": \"2023-10-01\", \"end_date\": \"2024-09-30\"}, \n",
    "            {\"start_date\": \"2024-10-01\", \"end_date\": \"2025-09-30\"}\n",
    "        ],\n",
    "        \"award_amounts\": [{\"lower_bound\":\"25000000\"}],\n",
    "        \"award_type_codes\": [\"A\", \"B\", \"C\", \"D\"],\n",
    "        \"naics_codes\": [\n",
    "            \"11\", \"21\", \"22\", \"23\", \"31\", \"32\", \"33\", \"4233\", \"4235\", \"4238\", \"4246\", \"4247\",\n",
    "            \"5111\", \"5112\", \"5121\", \"5122\", \"5151\", \"5152\", \"5161\", \"5171\", \"5172\", \"5173\", \"5174\",\n",
    "            \"5175\", \"5179\", \"5181\", \"5182\", \"5191\", \"52\", \"54\"\n",
    "        ],\n",
    "        \"recipient_type_names\": [\n",
    "            \"business\", \"corporate_entity_not_tax_exempt\", \"other_than_small_business\",\n",
    "            \"subchapter_s_corporation\", \"partnership_or_limited_liability_partnership\", \n",
    "            \"limited_liability_corporation\", \"sole_proprietorship\", \"corporate_entity_tax_exempt\", \n",
    "            \"manufacturer_of_goods\"\n",
    "        ]\n",
    "    },\n",
    "    \"fields\": [\n",
    "        \"Award ID\", \"Recipient Name\", \"Award Amount\", \"Total Outlays\", \"Description\", \n",
    "        \"Contract Award Type\", \"def_codes\", \"COVID-19 Obligations\", \"COVID-19 Outlays\", \n",
    "        \"Infrastructure Obligations\", \"Infrastructure Outlays\", \"Awarding Agency\", \n",
    "        \"Awarding Sub Agency\", \"Start Date\", \"End Date\", \"recipient_id\", \"prime_award_recipient_id\"\n",
    "    ],\n",
    "    \"order\": \"desc\",\n",
    "    \"sort\": \"Award Amount\"\n",
    "}"
   ]
  },
  {
   "cell_type": "code",
   "execution_count": null,
   "metadata": {},
   "outputs": [],
   "source": [
    "df_contracts = {}\n",
    "\n",
    "for i in range(1):\n",
    "    temp = copy.deepcopy(payload)  \n",
    "    file = f'alldata.csv'\n",
    "\n",
    "    first_page = True\n",
    "    j =357 \n",
    "    while True: \n",
    "        temp[\"page\"] = j\n",
    "        response = requests.post(api_url, headers=headers, json=temp)\n",
    "        print(j)\n",
    "        if response.status_code == 200:\n",
    "            results = response.json().get('results', [])\n",
    "            if not results:  \n",
    "                break\n",
    "\n",
    "            df = pd.DataFrame(results)\n",
    "            df.to_csv(file, index=False, mode='a', header=True)  \n",
    "            j+=1\n",
    "\n",
    "        else: \n",
    "            break  \n",
    "\n"
   ]
  },
  {
   "cell_type": "code",
   "execution_count": null,
   "metadata": {},
   "outputs": [],
   "source": [
    "tickers_url = \"https://api.datajockey.io/v0/tickers\"\n",
    "query = {\n",
    "    \"apikey\": \"941a7b86a31338a1b6ccfd321d9d5bbf11abf594fba78ad2fab3\"\n",
    "}\n",
    "\n",
    "response = requests.get(tickers_url, params=query)\n",
    "if response.status_code == 200: \n",
    "    data = response.json()\n",
    "    file = \"data/tickers_data.csv\"\n",
    "    df = pd.DataFrame(data)\n",
    "    df.to_csv(file, index=False)"
   ]
  },
  {
   "cell_type": "code",
   "execution_count": null,
   "metadata": {},
   "outputs": [],
   "source": [
    "df = pd.read_csv(\"data/tickers_data.csv\")\n",
    "df[\"cik_s\"] = df[\"cik\"].apply(lambda x: str(x).zfill(10))\n",
    "df = pd.DataFrame(df)\n",
    "df.to_csv(\"data/tickers_data.csv\", index=False)"
   ]
  }
 ],
 "metadata": {
  "kernelspec": {
   "display_name": "quant",
   "language": "python",
   "name": "python3"
  },
  "language_info": {
   "name": "python",
   "version": "3.13.0"
  }
 },
 "nbformat": 4,
 "nbformat_minor": 2
}
